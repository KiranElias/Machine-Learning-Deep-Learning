{
 "cells": [
  {
   "cell_type": "code",
   "execution_count": 1,
   "metadata": {},
   "outputs": [],
   "source": [
    "from tensorflow.keras.applications.resnet50 import ResNet50\n",
    "from tensorflow.keras.preprocessing import image\n",
    "from tensorflow.keras.applications.resnet50 import preprocess_input, decode_predictions\n",
    "import numpy as np\n",
    "import cv2\n",
    "import os\n"
   ]
  },
  {
   "cell_type": "code",
   "execution_count": 2,
   "metadata": {},
   "outputs": [],
   "source": [
    "\n",
    "dir_path = r'F:\\Test images'\n",
    "for i in os.listdir(dir_path):\n",
    "    \n",
    "    imgcv = cv2.imread(dir_path+'//' + i) #resize images\n",
    "    img =cv2.resize(imgcv,(224,224))\n",
    "\n",
    "    model = ResNet50(weights='imagenet')\n",
    "\n",
    "    \n",
    "    \n",
    "    x = image.img_to_array(img)\n",
    "    x = np.expand_dims(x, axis=0)\n",
    "    \n",
    "\n",
    "    preds = model.predict(x)\n",
    "    label = decode_predictions(preds)\n",
    "    label = label[0][0]\n",
    "    \n",
    "    \n",
    "    cls=label[1].split(\"_\")\n",
    "    clas=\" \".join(cls).title()\n",
    " \n",
    "    cv2.putText(imgcv,clas +\" \"+ str((label[2]*100).round())+\"%\",(20,20), cv2.FONT_HERSHEY_DUPLEX,0.5, (0,0,255), 1)\n",
    " \n",
    "    cv2.imshow('output', imgcv)\n",
    "    cv2.waitKey(0)\n",
    "    \n",
    "    \n",
    "cv2.destroyAllWindows()"
   ]
  },
  {
   "cell_type": "code",
   "execution_count": null,
   "metadata": {},
   "outputs": [],
   "source": []
  }
 ],
 "metadata": {
  "kernelspec": {
   "display_name": "Python 3",
   "language": "python",
   "name": "python3"
  },
  "language_info": {
   "codemirror_mode": {
    "name": "ipython",
    "version": 3
   },
   "file_extension": ".py",
   "mimetype": "text/x-python",
   "name": "python",
   "nbconvert_exporter": "python",
   "pygments_lexer": "ipython3",
   "version": "3.7.7"
  }
 },
 "nbformat": 4,
 "nbformat_minor": 4
}
