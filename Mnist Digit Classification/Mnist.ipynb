{
 "cells": [
  {
   "cell_type": "code",
   "execution_count": 19,
   "id": "6a7336a0",
   "metadata": {},
   "outputs": [],
   "source": [
    "import numpy\n",
    "from keras.datasets import mnist\n",
    "from keras.models import Sequential\n",
    "from keras.layers import Dense\n",
    "from keras.utils import np_utils\n",
    "from keras.layers.convolutional import Conv2D\n",
    "from keras.layers.convolutional import MaxPooling2D\n",
    "from keras.layers import Dropout\n",
    "from keras.layers import Flatten\n",
    "from keras import backend as K\n",
    "\n",
    "\n",
    "\n"
   ]
  },
  {
   "cell_type": "code",
   "execution_count": 20,
   "id": "d94d47d0",
   "metadata": {},
   "outputs": [],
   "source": [
    "#fix the seed value for keeping the result uniform\n",
    "seed = 7\n",
    "numpy.random.seed(seed)\n",
    "\n",
    "# load data\n",
    "(X_train, y_train), (X_test, y_test) = mnist.load_data()\n",
    "\n"
   ]
  },
  {
   "cell_type": "code",
   "execution_count": 21,
   "id": "97730183",
   "metadata": {},
   "outputs": [],
   "source": [
    "#reshape the training and testing input images\n",
    "X_train = X_train.reshape(X_train.shape[0], 28, 28,1).astype('float32')\n",
    "X_test = X_test.reshape(X_test.shape[0], 28, 28,1).astype('float32')\n",
    "\n",
    "# normalize inputs from 0-255 to 0-1\n",
    "X_train = X_train / 255\n",
    "X_test = X_test / 255\n",
    "\n",
    "\n",
    "# one hot encode outputs\n",
    "y_train = np_utils.to_categorical(y_train)\n",
    "y_test = np_utils.to_categorical(y_test)\n",
    "num_classes = y_test.shape[1]\n",
    "\n",
    "\n",
    "\n"
   ]
  },
  {
   "cell_type": "code",
   "execution_count": 22,
   "id": "bbb0ade8",
   "metadata": {},
   "outputs": [],
   "source": [
    "def baseline_model():\n",
    "    # create model\n",
    "    model = Sequential()\n",
    "    model.add(Conv2D(30, (5, 5), padding='valid', input_shape=(28, 28,1), activation='relu'))\n",
    "    model.add(MaxPooling2D(pool_size=(2,2)))\n",
    "    model.add(Conv2D(15, (3, 3), activation='relu'))\n",
    "    model.add(MaxPooling2D(pool_size=(2,2)))\n",
    "    model.add(Dropout(0.2))  \n",
    "    model.add(Flatten())   \n",
    "    model.add(Dense(128, activation='relu'))\n",
    "    model.add(Dense(50, activation='relu'))\n",
    "    model.add(Dense(num_classes,  activation='softmax'))\n",
    "    # Compile model\n",
    "    model.compile(loss='categorical_crossentropy', optimizer='adam', metrics=['accuracy'])\n",
    "    return model\n",
    "\n",
    "\n"
   ]
  },
  {
   "cell_type": "code",
   "execution_count": 23,
   "id": "403767a7",
   "metadata": {},
   "outputs": [
    {
     "name": "stdout",
     "output_type": "stream",
     "text": [
      "Epoch 1/25\n",
      "300/300 - 21s - loss: 0.3704 - accuracy: 0.8832 - val_loss: 0.0907 - val_accuracy: 0.9707\n",
      "Epoch 2/25\n",
      "300/300 - 20s - loss: 0.0993 - accuracy: 0.9695 - val_loss: 0.0483 - val_accuracy: 0.9846\n",
      "Epoch 3/25\n",
      "300/300 - 21s - loss: 0.0709 - accuracy: 0.9776 - val_loss: 0.0508 - val_accuracy: 0.9833\n",
      "Epoch 4/25\n",
      "300/300 - 22s - loss: 0.0558 - accuracy: 0.9828 - val_loss: 0.0335 - val_accuracy: 0.9886\n",
      "Epoch 5/25\n",
      "300/300 - 20s - loss: 0.0468 - accuracy: 0.9853 - val_loss: 0.0303 - val_accuracy: 0.9900\n",
      "Epoch 6/25\n",
      "300/300 - 21s - loss: 0.0426 - accuracy: 0.9873 - val_loss: 0.0307 - val_accuracy: 0.9885\n",
      "Epoch 7/25\n",
      "300/300 - 22s - loss: 0.0377 - accuracy: 0.9884 - val_loss: 0.0281 - val_accuracy: 0.9907\n",
      "Epoch 8/25\n",
      "300/300 - 21s - loss: 0.0355 - accuracy: 0.9884 - val_loss: 0.0269 - val_accuracy: 0.9896\n",
      "Epoch 9/25\n",
      "300/300 - 22s - loss: 0.0314 - accuracy: 0.9901 - val_loss: 0.0269 - val_accuracy: 0.9904\n",
      "Epoch 10/25\n",
      "300/300 - 27s - loss: 0.0296 - accuracy: 0.9905 - val_loss: 0.0263 - val_accuracy: 0.9910\n",
      "Epoch 11/25\n",
      "300/300 - 22s - loss: 0.0280 - accuracy: 0.9911 - val_loss: 0.0272 - val_accuracy: 0.9915\n",
      "Epoch 12/25\n",
      "300/300 - 23s - loss: 0.0277 - accuracy: 0.9907 - val_loss: 0.0257 - val_accuracy: 0.9917\n",
      "Epoch 13/25\n",
      "300/300 - 24s - loss: 0.0239 - accuracy: 0.9924 - val_loss: 0.0221 - val_accuracy: 0.9922\n",
      "Epoch 14/25\n",
      "300/300 - 22s - loss: 0.0217 - accuracy: 0.9930 - val_loss: 0.0233 - val_accuracy: 0.9918\n",
      "Epoch 15/25\n",
      "300/300 - 24s - loss: 0.0221 - accuracy: 0.9926 - val_loss: 0.0263 - val_accuracy: 0.9914\n",
      "Epoch 16/25\n",
      "300/300 - 23s - loss: 0.0198 - accuracy: 0.9935 - val_loss: 0.0261 - val_accuracy: 0.9912\n",
      "Epoch 17/25\n",
      "300/300 - 23s - loss: 0.0184 - accuracy: 0.9938 - val_loss: 0.0245 - val_accuracy: 0.9926\n",
      "Epoch 18/25\n",
      "300/300 - 21s - loss: 0.0186 - accuracy: 0.9939 - val_loss: 0.0245 - val_accuracy: 0.9925\n",
      "Epoch 19/25\n",
      "300/300 - 23s - loss: 0.0181 - accuracy: 0.9939 - val_loss: 0.0263 - val_accuracy: 0.9924\n",
      "Epoch 20/25\n",
      "300/300 - 25s - loss: 0.0165 - accuracy: 0.9944 - val_loss: 0.0225 - val_accuracy: 0.9929\n",
      "Epoch 21/25\n",
      "300/300 - 25s - loss: 0.0145 - accuracy: 0.9954 - val_loss: 0.0287 - val_accuracy: 0.9925\n",
      "Epoch 22/25\n",
      "300/300 - 25s - loss: 0.0155 - accuracy: 0.9947 - val_loss: 0.0273 - val_accuracy: 0.9924\n",
      "Epoch 23/25\n",
      "300/300 - 22s - loss: 0.0144 - accuracy: 0.9952 - val_loss: 0.0243 - val_accuracy: 0.9927\n",
      "Epoch 24/25\n",
      "300/300 - 22s - loss: 0.0135 - accuracy: 0.9955 - val_loss: 0.0292 - val_accuracy: 0.9914\n",
      "Epoch 25/25\n",
      "300/300 - 24s - loss: 0.0124 - accuracy: 0.9958 - val_loss: 0.0257 - val_accuracy: 0.9922\n"
     ]
    },
    {
     "data": {
      "text/plain": [
       "<keras.callbacks.History at 0x254820609a0>"
      ]
     },
     "execution_count": 23,
     "metadata": {},
     "output_type": "execute_result"
    }
   ],
   "source": [
    "# build the model\n",
    "model = baseline_model()\n",
    "# Fit the model\n",
    "model.fit(X_train, y_train, validation_data=(X_test, y_test), epochs=25, batch_size=200, verbose=2)"
   ]
  },
  {
   "cell_type": "code",
   "execution_count": 27,
   "id": "a0b461b2",
   "metadata": {},
   "outputs": [
    {
     "name": "stdout",
     "output_type": "stream",
     "text": [
      "Saved model to disk\n"
     ]
    }
   ],
   "source": [
    "model.save(\"model_mnist.h5\")\n",
    "print(\"Saved model to disk\")"
   ]
  },
  {
   "cell_type": "code",
   "execution_count": 28,
   "id": "a010bb80",
   "metadata": {},
   "outputs": [
    {
     "name": "stdout",
     "output_type": "stream",
     "text": [
      "313/313 [==============================] - 1s 3ms/step - loss: 0.0257 - accuracy: 0.9922\n"
     ]
    },
    {
     "data": {
      "text/plain": [
       "[0.02569681964814663, 0.9922000169754028]"
      ]
     },
     "execution_count": 28,
     "metadata": {},
     "output_type": "execute_result"
    }
   ],
   "source": [
    "model.evaluate(X_test,y_test)"
   ]
  },
  {
   "cell_type": "code",
   "execution_count": 29,
   "id": "a0bd0a82",
   "metadata": {},
   "outputs": [
    {
     "name": "stdout",
     "output_type": "stream",
     "text": [
      "1875/1875 [==============================] - 7s 4ms/step - loss: 0.0057 - accuracy: 0.9980\n"
     ]
    },
    {
     "data": {
      "text/plain": [
       "[0.005659576505422592, 0.99795001745224]"
      ]
     },
     "execution_count": 29,
     "metadata": {},
     "output_type": "execute_result"
    }
   ],
   "source": [
    "model.evaluate(X_train,y_train)"
   ]
  }
 ],
 "metadata": {
  "kernelspec": {
   "display_name": "Python 3",
   "language": "python",
   "name": "python3"
  },
  "language_info": {
   "codemirror_mode": {
    "name": "ipython",
    "version": 3
   },
   "file_extension": ".py",
   "mimetype": "text/x-python",
   "name": "python",
   "nbconvert_exporter": "python",
   "pygments_lexer": "ipython3",
   "version": "3.8.8"
  }
 },
 "nbformat": 4,
 "nbformat_minor": 5
}
